{
 "cells": [
  {
   "cell_type": "code",
   "execution_count": 1,
   "metadata": {},
   "outputs": [],
   "source": [
    "import pandas as pd"
   ]
  },
  {
   "cell_type": "code",
   "execution_count": 8,
   "metadata": {},
   "outputs": [],
   "source": [
    "df = pd.read_csv(\"../data/external_df.csv\")"
   ]
  },
  {
   "cell_type": "code",
   "execution_count": 9,
   "metadata": {},
   "outputs": [],
   "source": [
    "df = df.dropna()"
   ]
  },
  {
   "cell_type": "code",
   "execution_count": 10,
   "metadata": {},
   "outputs": [
    {
     "data": {
      "text/html": [
       "<div>\n",
       "<style scoped>\n",
       "    .dataframe tbody tr th:only-of-type {\n",
       "        vertical-align: middle;\n",
       "    }\n",
       "\n",
       "    .dataframe tbody tr th {\n",
       "        vertical-align: top;\n",
       "    }\n",
       "\n",
       "    .dataframe thead th {\n",
       "        text-align: right;\n",
       "    }\n",
       "</style>\n",
       "<table border=\"1\" class=\"dataframe\">\n",
       "  <thead>\n",
       "    <tr style=\"text-align: right;\">\n",
       "      <th></th>\n",
       "      <th>problem</th>\n",
       "      <th>level</th>\n",
       "      <th>type</th>\n",
       "      <th>solution</th>\n",
       "      <th>stage</th>\n",
       "      <th>source</th>\n",
       "    </tr>\n",
       "  </thead>\n",
       "  <tbody>\n",
       "    <tr>\n",
       "      <th>0</th>\n",
       "      <td>Kevin Kangaroo begins hopping on a number line...</td>\n",
       "      <td>Level 5</td>\n",
       "      <td>Algebra</td>\n",
       "      <td>Kevin hops $1/3$ of the remaining distance wit...</td>\n",
       "      <td>train</td>\n",
       "      <td>MATH</td>\n",
       "    </tr>\n",
       "    <tr>\n",
       "      <th>1</th>\n",
       "      <td>The ratio of the areas of two squares is $\\fra...</td>\n",
       "      <td>Level 4</td>\n",
       "      <td>Algebra</td>\n",
       "      <td>We start off by simplifying the ratio $\\frac{1...</td>\n",
       "      <td>train</td>\n",
       "      <td>MATH</td>\n",
       "    </tr>\n",
       "    <tr>\n",
       "      <th>2</th>\n",
       "      <td>If $\\sqrt{2\\sqrt{t-2}} = \\sqrt[4]{7 - t}$, the...</td>\n",
       "      <td>Level 4</td>\n",
       "      <td>Algebra</td>\n",
       "      <td>We raise both sides to the fourth power, which...</td>\n",
       "      <td>train</td>\n",
       "      <td>MATH</td>\n",
       "    </tr>\n",
       "    <tr>\n",
       "      <th>3</th>\n",
       "      <td>Let $t(x) = \\sqrt{3x+1}$ and $f(x)=5-t(x)$. Wh...</td>\n",
       "      <td>Level 4</td>\n",
       "      <td>Algebra</td>\n",
       "      <td>We first evaluate $f(5) = 5 -t(5) = 5-\\sqrt{5\\...</td>\n",
       "      <td>train</td>\n",
       "      <td>MATH</td>\n",
       "    </tr>\n",
       "    <tr>\n",
       "      <th>4</th>\n",
       "      <td>James has a total of 66 dollars in his piggy b...</td>\n",
       "      <td>Level 2</td>\n",
       "      <td>Algebra</td>\n",
       "      <td>Call the number of one dollar bills $x$ and th...</td>\n",
       "      <td>train</td>\n",
       "      <td>MATH</td>\n",
       "    </tr>\n",
       "    <tr>\n",
       "      <th>...</th>\n",
       "      <td>...</td>\n",
       "      <td>...</td>\n",
       "      <td>...</td>\n",
       "      <td>...</td>\n",
       "      <td>...</td>\n",
       "      <td>...</td>\n",
       "    </tr>\n",
       "    <tr>\n",
       "      <th>12495</th>\n",
       "      <td>Find the matrix $\\mathbf{L} = \\begin{pmatrix} ...</td>\n",
       "      <td>Level 2</td>\n",
       "      <td>Precalculus</td>\n",
       "      <td>Multiplying, we get\\n\\[\\begin{pmatrix} a &amp; 0 \\...</td>\n",
       "      <td>test</td>\n",
       "      <td>MATH</td>\n",
       "    </tr>\n",
       "    <tr>\n",
       "      <th>12496</th>\n",
       "      <td>Find all values of $x,$ $0 \\le x \\le 2 \\pi,$ w...</td>\n",
       "      <td>Level 2</td>\n",
       "      <td>Precalculus</td>\n",
       "      <td>Since $\\sin^2 x = 1 - \\cos^2 x,$ we get\\n\\[1 -...</td>\n",
       "      <td>test</td>\n",
       "      <td>MATH</td>\n",
       "    </tr>\n",
       "    <tr>\n",
       "      <th>12497</th>\n",
       "      <td>Let $\\mathbf{a},$ $\\mathbf{b},$ $\\mathbf{c}$ b...</td>\n",
       "      <td>Level 4</td>\n",
       "      <td>Precalculus</td>\n",
       "      <td>Expanding, we get\\n\\begin{align*}\\n(2 \\mathbf{...</td>\n",
       "      <td>test</td>\n",
       "      <td>MATH</td>\n",
       "    </tr>\n",
       "    <tr>\n",
       "      <th>12498</th>\n",
       "      <td>Let $x$, $y$, and $z$ be real numbers such tha...</td>\n",
       "      <td>Level 4</td>\n",
       "      <td>Precalculus</td>\n",
       "      <td>Let $a = e^{ix}$, $b = e^{iy}$, and $c = e^{iz...</td>\n",
       "      <td>test</td>\n",
       "      <td>MATH</td>\n",
       "    </tr>\n",
       "    <tr>\n",
       "      <th>12499</th>\n",
       "      <td>Below is the graph of $y = a \\csc bx$ for some...</td>\n",
       "      <td>Level 2</td>\n",
       "      <td>Precalculus</td>\n",
       "      <td>The period of the graph is $6 \\pi.$  The perio...</td>\n",
       "      <td>test</td>\n",
       "      <td>MATH</td>\n",
       "    </tr>\n",
       "  </tbody>\n",
       "</table>\n",
       "<p>12500 rows × 6 columns</p>\n",
       "</div>"
      ],
      "text/plain": [
       "                                                 problem    level  \\\n",
       "0      Kevin Kangaroo begins hopping on a number line...  Level 5   \n",
       "1      The ratio of the areas of two squares is $\\fra...  Level 4   \n",
       "2      If $\\sqrt{2\\sqrt{t-2}} = \\sqrt[4]{7 - t}$, the...  Level 4   \n",
       "3      Let $t(x) = \\sqrt{3x+1}$ and $f(x)=5-t(x)$. Wh...  Level 4   \n",
       "4      James has a total of 66 dollars in his piggy b...  Level 2   \n",
       "...                                                  ...      ...   \n",
       "12495  Find the matrix $\\mathbf{L} = \\begin{pmatrix} ...  Level 2   \n",
       "12496  Find all values of $x,$ $0 \\le x \\le 2 \\pi,$ w...  Level 2   \n",
       "12497  Let $\\mathbf{a},$ $\\mathbf{b},$ $\\mathbf{c}$ b...  Level 4   \n",
       "12498  Let $x$, $y$, and $z$ be real numbers such tha...  Level 4   \n",
       "12499  Below is the graph of $y = a \\csc bx$ for some...  Level 2   \n",
       "\n",
       "              type                                           solution  stage  \\\n",
       "0          Algebra  Kevin hops $1/3$ of the remaining distance wit...  train   \n",
       "1          Algebra  We start off by simplifying the ratio $\\frac{1...  train   \n",
       "2          Algebra  We raise both sides to the fourth power, which...  train   \n",
       "3          Algebra  We first evaluate $f(5) = 5 -t(5) = 5-\\sqrt{5\\...  train   \n",
       "4          Algebra  Call the number of one dollar bills $x$ and th...  train   \n",
       "...            ...                                                ...    ...   \n",
       "12495  Precalculus  Multiplying, we get\\n\\[\\begin{pmatrix} a & 0 \\...   test   \n",
       "12496  Precalculus  Since $\\sin^2 x = 1 - \\cos^2 x,$ we get\\n\\[1 -...   test   \n",
       "12497  Precalculus  Expanding, we get\\n\\begin{align*}\\n(2 \\mathbf{...   test   \n",
       "12498  Precalculus  Let $a = e^{ix}$, $b = e^{iy}$, and $c = e^{iz...   test   \n",
       "12499  Precalculus  The period of the graph is $6 \\pi.$  The perio...   test   \n",
       "\n",
       "      source  \n",
       "0       MATH  \n",
       "1       MATH  \n",
       "2       MATH  \n",
       "3       MATH  \n",
       "4       MATH  \n",
       "...      ...  \n",
       "12495   MATH  \n",
       "12496   MATH  \n",
       "12497   MATH  \n",
       "12498   MATH  \n",
       "12499   MATH  \n",
       "\n",
       "[12500 rows x 6 columns]"
      ]
     },
     "execution_count": 10,
     "metadata": {},
     "output_type": "execute_result"
    }
   ],
   "source": [
    "df"
   ]
  },
  {
   "cell_type": "code",
   "execution_count": 11,
   "metadata": {},
   "outputs": [],
   "source": [
    "df = df[df['level'] != 'Level ?']"
   ]
  },
  {
   "cell_type": "code",
   "execution_count": 12,
   "metadata": {},
   "outputs": [],
   "source": [
    "unique_levels = list(df['level'].unique())\n",
    "unique_types = list(df['type'].unique())"
   ]
  },
  {
   "cell_type": "code",
   "execution_count": 14,
   "metadata": {},
   "outputs": [
    {
     "data": {
      "text/plain": [
       "(['Level 5', 'Level 4', 'Level 2', 'Level 3', 'Level 1'],\n",
       " ['Algebra',\n",
       "  'Counting & Probability',\n",
       "  'Geometry',\n",
       "  'Intermediate Algebra',\n",
       "  'Number Theory',\n",
       "  'Prealgebra',\n",
       "  'Precalculus'])"
      ]
     },
     "execution_count": 14,
     "metadata": {},
     "output_type": "execute_result"
    }
   ],
   "source": [
    "unique_levels, unique_types"
   ]
  },
  {
   "cell_type": "code",
   "execution_count": null,
   "metadata": {},
   "outputs": [],
   "source": [
    "# [\n",
    "#     'level': 0, \n",
    "#     'type': A, \n",
    "#     'question_answer': [\n",
    "#         {\n",
    "#             'question': q, \n",
    "#             'answer': a\n",
    "#         }\n",
    "#     ]\n",
    "# ]"
   ]
  },
  {
   "cell_type": "code",
   "execution_count": 33,
   "metadata": {},
   "outputs": [],
   "source": [
    "dataset = []\n",
    "\n",
    "i = 0\n",
    "for unique_type in unique_types:\n",
    "    question_answer_pairs = []\n",
    "    for unique_level in unique_levels:\n",
    "        questions = list(df[(df['level'] == unique_level) & (df['type'] == unique_type)]['problem'])\n",
    "        answers = list(df[(df['level'] == unique_level) & (df['type'] == unique_type)]['solution'])\n",
    "        \n",
    "        # Pair each question with its corresponding answer\n",
    "        pairs = list(zip(questions, answers))\n",
    "\n",
    "        # Append the pairs to the question_answer_pairs list\n",
    "        question_answer_pairs.extend({\n",
    "            \"question\": q,\n",
    "            \"answer\": a\n",
    "        } for q, a in pairs)\n",
    "\n",
    "        dataset.append({\n",
    "            \"id\": i, \n",
    "            \"type\": unique_type, \n",
    "            \"level\": unique_level, \n",
    "            \"question_answer_pairs\": question_answer_pairs\n",
    "        })\n",
    "        i += 1  # Increment id for the next unique_type\n"
   ]
  },
  {
   "cell_type": "code",
   "execution_count": 34,
   "metadata": {},
   "outputs": [
    {
     "data": {
      "text/plain": [
       "35"
      ]
     },
     "execution_count": 34,
     "metadata": {},
     "output_type": "execute_result"
    }
   ],
   "source": [
    "len(dataset)"
   ]
  },
  {
   "cell_type": "code",
   "execution_count": 40,
   "metadata": {},
   "outputs": [],
   "source": [
    "import json\n",
    "\n",
    "with open(\"../data/question_answer_pairs.json\", \"w\") as jsonFile:\n",
    "    json.dump(dataset, jsonFile, indent=4)"
   ]
  },
  {
   "cell_type": "code",
   "execution_count": null,
   "metadata": {},
   "outputs": [],
   "source": []
  }
 ],
 "metadata": {
  "kernelspec": {
   "display_name": "Python 3",
   "language": "python",
   "name": "python3"
  },
  "language_info": {
   "codemirror_mode": {
    "name": "ipython",
    "version": 3
   },
   "file_extension": ".py",
   "mimetype": "text/x-python",
   "name": "python",
   "nbconvert_exporter": "python",
   "pygments_lexer": "ipython3",
   "version": "3.12.7"
  }
 },
 "nbformat": 4,
 "nbformat_minor": 2
}
