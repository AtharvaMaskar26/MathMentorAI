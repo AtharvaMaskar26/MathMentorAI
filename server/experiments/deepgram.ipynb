{
 "cells": [
  {
   "cell_type": "code",
   "execution_count": 4,
   "metadata": {},
   "outputs": [
    {
     "name": "stdout",
     "output_type": "stream",
     "text": [
      "Collecting deepgram-sdk\n",
      "  Downloading deepgram_sdk-3.7.5-py3-none-any.whl.metadata (13 kB)\n",
      "Requirement already satisfied: httpx>=0.25.2 in c:\\python\\lib\\site-packages (from deepgram-sdk) (0.27.2)\n",
      "Requirement already satisfied: websockets>=12.0 in c:\\python\\lib\\site-packages (from deepgram-sdk) (13.1)\n",
      "Requirement already satisfied: dataclasses-json>=0.6.3 in c:\\python\\lib\\site-packages (from deepgram-sdk) (0.6.7)\n",
      "Requirement already satisfied: typing-extensions>=4.9.0 in c:\\python\\lib\\site-packages (from deepgram-sdk) (4.12.2)\n",
      "Requirement already satisfied: aiohttp>=3.9.1 in c:\\python\\lib\\site-packages (from deepgram-sdk) (3.10.10)\n",
      "Requirement already satisfied: aiofiles>=23.2.1 in c:\\python\\lib\\site-packages (from deepgram-sdk) (23.2.1)\n",
      "Collecting aenum>=3.1.0 (from deepgram-sdk)\n",
      "  Downloading aenum-3.1.15-py3-none-any.whl.metadata (3.7 kB)\n",
      "Requirement already satisfied: deprecation>=2.1.0 in c:\\python\\lib\\site-packages (from deepgram-sdk) (2.1.0)\n",
      "Requirement already satisfied: aiohappyeyeballs>=2.3.0 in c:\\python\\lib\\site-packages (from aiohttp>=3.9.1->deepgram-sdk) (2.4.3)\n",
      "Requirement already satisfied: aiosignal>=1.1.2 in c:\\python\\lib\\site-packages (from aiohttp>=3.9.1->deepgram-sdk) (1.3.1)\n",
      "Requirement already satisfied: attrs>=17.3.0 in c:\\python\\lib\\site-packages (from aiohttp>=3.9.1->deepgram-sdk) (24.2.0)\n",
      "Requirement already satisfied: frozenlist>=1.1.1 in c:\\python\\lib\\site-packages (from aiohttp>=3.9.1->deepgram-sdk) (1.5.0)\n",
      "Requirement already satisfied: multidict<7.0,>=4.5 in c:\\python\\lib\\site-packages (from aiohttp>=3.9.1->deepgram-sdk) (6.1.0)\n",
      "Requirement already satisfied: yarl<2.0,>=1.12.0 in c:\\python\\lib\\site-packages (from aiohttp>=3.9.1->deepgram-sdk) (1.16.0)\n",
      "Requirement already satisfied: marshmallow<4.0.0,>=3.18.0 in c:\\python\\lib\\site-packages (from dataclasses-json>=0.6.3->deepgram-sdk) (3.23.1)\n",
      "Requirement already satisfied: typing-inspect<1,>=0.4.0 in c:\\python\\lib\\site-packages (from dataclasses-json>=0.6.3->deepgram-sdk) (0.9.0)\n",
      "Requirement already satisfied: packaging in c:\\users\\athar\\appdata\\roaming\\python\\python312\\site-packages (from deprecation>=2.1.0->deepgram-sdk) (24.1)\n",
      "Requirement already satisfied: anyio in c:\\python\\lib\\site-packages (from httpx>=0.25.2->deepgram-sdk) (4.6.0)\n",
      "Requirement already satisfied: certifi in c:\\python\\lib\\site-packages (from httpx>=0.25.2->deepgram-sdk) (2024.8.30)\n",
      "Requirement already satisfied: httpcore==1.* in c:\\python\\lib\\site-packages (from httpx>=0.25.2->deepgram-sdk) (1.0.6)\n",
      "Requirement already satisfied: idna in c:\\python\\lib\\site-packages (from httpx>=0.25.2->deepgram-sdk) (3.10)\n",
      "Requirement already satisfied: sniffio in c:\\python\\lib\\site-packages (from httpx>=0.25.2->deepgram-sdk) (1.3.1)\n",
      "Requirement already satisfied: h11<0.15,>=0.13 in c:\\python\\lib\\site-packages (from httpcore==1.*->httpx>=0.25.2->deepgram-sdk) (0.14.0)\n",
      "Requirement already satisfied: mypy-extensions>=0.3.0 in c:\\python\\lib\\site-packages (from typing-inspect<1,>=0.4.0->dataclasses-json>=0.6.3->deepgram-sdk) (1.0.0)\n",
      "Requirement already satisfied: propcache>=0.2.0 in c:\\python\\lib\\site-packages (from yarl<2.0,>=1.12.0->aiohttp>=3.9.1->deepgram-sdk) (0.2.0)\n",
      "Downloading deepgram_sdk-3.7.5-py3-none-any.whl (129 kB)\n",
      "Downloading aenum-3.1.15-py3-none-any.whl (137 kB)\n",
      "Installing collected packages: aenum, deepgram-sdk\n",
      "Successfully installed aenum-3.1.15 deepgram-sdk-3.7.5\n"
     ]
    },
    {
     "name": "stderr",
     "output_type": "stream",
     "text": [
      "WARNING: Ignoring invalid distribution ~orch (C:\\Python\\Lib\\site-packages)\n",
      "WARNING: Ignoring invalid distribution ~orch (C:\\Python\\Lib\\site-packages)\n",
      "WARNING: Ignoring invalid distribution ~orch (C:\\Python\\Lib\\site-packages)\n",
      "\n",
      "[notice] A new release of pip is available: 24.2 -> 24.3.1\n",
      "[notice] To update, run: python.exe -m pip install --upgrade pip\n"
     ]
    }
   ],
   "source": [
    "!pip install deepgram-sdk"
   ]
  },
  {
   "cell_type": "code",
   "execution_count": 8,
   "metadata": {},
   "outputs": [
    {
     "name": "stderr",
     "output_type": "stream",
     "text": [
      "C:\\Users\\athar\\AppData\\Local\\Temp\\ipykernel_17956\\745058809.py:28: DeprecatedWarning: v is deprecated as of 3.4.0 and will be removed in 4.0.0. deepgram.speak.v1 is deprecated. Use deepgram.speak.rest or deepgram.speak.websocket instead.\n",
      "  response = deepgram.speak.v(\"1\").save(filename, SPEAK_OPTIONS, options)\n"
     ]
    },
    {
     "name": "stdout",
     "output_type": "stream",
     "text": [
      "{\n",
      "    \"content_type\": \"audio/wav\",\n",
      "    \"request_id\": \"a278baaa-8393-41a1-9bca-7e2f02db9dd6\",\n",
      "    \"model_uuid\": \"06d0e057-2626-4b5a-93c6-38c3686ab88c\",\n",
      "    \"model_name\": \"aura-asteria-en\",\n",
      "    \"characters\": 32,\n",
      "    \"transfer_encoding\": \"chunked\",\n",
      "    \"date\": \"Sun, 03 Nov 2024 13:49:16 GMT\",\n",
      "    \"filename\": \"output.wav\"\n",
      "}\n"
     ]
    }
   ],
   "source": [
    "import os\n",
    "from dotenv import load_dotenv\n",
    "\n",
    "from deepgram import (\n",
    "    DeepgramClient,\n",
    "    SpeakOptions,\n",
    ")\n",
    "\n",
    "load_dotenv()\n",
    "\n",
    "SPEAK_OPTIONS = {\"text\": \"Hello, how can I help you today?\"}\n",
    "filename = \"output.wav\"\n",
    "\n",
    "\n",
    "def main():\n",
    "    try:\n",
    "        # STEP 1: Create a Deepgram client using the API key from environment variables\n",
    "        deepgram = DeepgramClient(api_key=os.getenv(\"DEEPGRAM_API_KEY\"))\n",
    "\n",
    "        # STEP 2: Configure the options (such as model choice, audio configuration, etc.)\n",
    "        options = SpeakOptions(\n",
    "            model=\"aura-asteria-en\",\n",
    "            encoding=\"linear16\",\n",
    "            container=\"wav\"\n",
    "        )\n",
    "\n",
    "        # STEP 3: Call the save method on the speak property\n",
    "        response = deepgram.speak.v(\"1\").save(filename, SPEAK_OPTIONS, options)\n",
    "        print(response.to_json(indent=4))\n",
    "\n",
    "    except Exception as e:\n",
    "        print(f\"Exception: {e}\")\n",
    "\n",
    "\n",
    "if __name__ == \"__main__\":\n",
    "    main()"
   ]
  },
  {
   "cell_type": "code",
   "execution_count": null,
   "metadata": {},
   "outputs": [],
   "source": []
  }
 ],
 "metadata": {
  "kernelspec": {
   "display_name": "Python 3",
   "language": "python",
   "name": "python3"
  },
  "language_info": {
   "codemirror_mode": {
    "name": "ipython",
    "version": 3
   },
   "file_extension": ".py",
   "mimetype": "text/x-python",
   "name": "python",
   "nbconvert_exporter": "python",
   "pygments_lexer": "ipython3",
   "version": "3.12.7"
  }
 },
 "nbformat": 4,
 "nbformat_minor": 2
}
